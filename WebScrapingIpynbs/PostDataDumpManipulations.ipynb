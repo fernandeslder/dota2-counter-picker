{
 "cells": [
  {
   "cell_type": "code",
   "execution_count": null,
   "id": "fd3138a0-7ee3-4f97-83be-60515c245a99",
   "metadata": {},
   "outputs": [],
   "source": [
    "import pickle\n",
    "with open('../assets/data/dbuff_dis_data.pkl', 'rb') as f:\n",
    "    dbuff_dis_data = pickle.load(f)"
   ]
  },
  {
   "cell_type": "code",
   "execution_count": null,
   "id": "12a84c73-fafc-4313-826c-14a3b0334c1a",
   "metadata": {},
   "outputs": [],
   "source": [
    "with open('../assets/data/dbuff_wr_data.pkl', 'rb') as f:\n",
    "    dbuff_wr_data = pickle.load(f)"
   ]
  },
  {
   "cell_type": "code",
   "execution_count": null,
   "id": "aff0c655-9f70-4013-864f-83c7ba12a82a",
   "metadata": {
    "tags": []
   },
   "outputs": [],
   "source": [
    "dbuff_dis_data['Abaddon']+dbuff_dis_data['Bloodseeker']"
   ]
  },
  {
   "cell_type": "code",
   "execution_count": null,
   "id": "d46bf52b-72c2-430a-9855-c8a2603b7c6e",
   "metadata": {},
   "outputs": [],
   "source": [
    "try:\n",
    "    print(dbuff_dis_data['asdf'])\n",
    "except KeyError:\n",
    "    print(\"Bro key no exist pls input a correct hero name\")\n"
   ]
  },
  {
   "cell_type": "code",
   "execution_count": null,
   "id": "930e3fcb-cde6-4510-8660-bc76e481e002",
   "metadata": {},
   "outputs": [],
   "source": [
    "dbuff_dis_data"
   ]
  },
  {
   "cell_type": "code",
   "execution_count": null,
   "id": "4a0a4c84-2fe6-466b-b510-6501e0f73aac",
   "metadata": {},
   "outputs": [],
   "source": [
    "def cummulativeDisadvantage(hero_list):\n",
    "    dfSumDis=dbuff_dis_data[hero_list[0]]\n",
    "    for i in hero_list[1:]:\n",
    "        dfSumDis = dfSumDis + dbuff_dis_data[i]\n",
    "    return dfSumDis"
   ]
  },
  {
   "cell_type": "code",
   "execution_count": null,
   "id": "50d87a5f-41d7-4adf-bf8c-df713f84ef42",
   "metadata": {},
   "outputs": [],
   "source": [
    "a = cummulativeDisadvantage(['Abaddon', 'Alchemist', 'Slark'])"
   ]
  },
  {
   "cell_type": "code",
   "execution_count": null,
   "id": "a0573d41-342a-4dc5-a704-7502eec20e61",
   "metadata": {},
   "outputs": [],
   "source": [
    "a.sort_values(ascending=False)"
   ]
  },
  {
   "cell_type": "code",
   "execution_count": null,
   "id": "abe33ab9-fd59-4b4d-b353-9b70a4d0e717",
   "metadata": {},
   "outputs": [],
   "source": [
    "def averageWinrate(hero_list):\n",
    "    dfAvgWr=dbuff_wr_data[hero_list[0]]\n",
    "    for i in hero_list[1:]:\n",
    "        dfAvgWr = dfAvgWr + dbuff_wr_data[i]\n",
    "    return dfAvgWr/len(hero_list)"
   ]
  },
  {
   "cell_type": "code",
   "execution_count": null,
   "id": "fd2e7c57-cada-44ee-bf9d-943545f3f011",
   "metadata": {},
   "outputs": [],
   "source": [
    "b = averageWinrate(['Abaddon', 'Alchemist', 'Slark'])"
   ]
  },
  {
   "cell_type": "code",
   "execution_count": null,
   "id": "1a8d7207-7511-4870-8273-119c6f4a7435",
   "metadata": {},
   "outputs": [],
   "source": [
    "b.sort_values()"
   ]
  },
  {
   "cell_type": "code",
   "execution_count": null,
   "id": "49843219-d9f8-493b-bd7f-c115a6ae5507",
   "metadata": {
    "scrolled": true,
    "tags": []
   },
   "outputs": [],
   "source": [
    "import json\n",
    "print(json.dumps(dbuff_dis_data['Abaddon'].to_dict()))"
   ]
  },
  {
   "cell_type": "code",
   "execution_count": null,
   "id": "47a05f8c-d737-41f1-a85d-ad506d82fafd",
   "metadata": {},
   "outputs": [],
   "source": [
    "mydict={}\n",
    "mydict['Abaddon'] = dbuff_dis_data['Abaddon'].to_dict()"
   ]
  },
  {
   "cell_type": "code",
   "execution_count": null,
   "id": "b2871151-5360-4c4a-96ca-5b1234a16d36",
   "metadata": {
    "tags": []
   },
   "outputs": [],
   "source": [
    "mydict"
   ]
  },
  {
   "cell_type": "code",
   "execution_count": null,
   "id": "fed2fe90-399a-4d17-ae81-645a1f8c759e",
   "metadata": {},
   "outputs": [],
   "source": [
    "def individualDisadvantage(hero_list):\n",
    "    indDisDict={}\n",
    "    for i in hero_list:\n",
    "        indDisDict[i] = dbuff_dis_data[i].to_dict()\n",
    "    return indDisDict"
   ]
  },
  {
   "cell_type": "code",
   "execution_count": null,
   "id": "126342c4-7e80-41b3-b04a-99e09048e382",
   "metadata": {
    "tags": []
   },
   "outputs": [],
   "source": [
    "individualDisadvantage(['Abaddon', 'Alchemist', 'Slark'])"
   ]
  },
  {
   "cell_type": "code",
   "execution_count": null,
   "id": "8ee7497b-95b9-4b54-8343-4f54a2db8a2e",
   "metadata": {},
   "outputs": [],
   "source": []
  },
  {
   "cell_type": "code",
   "execution_count": null,
   "id": "c9298ebe-add6-4281-9afb-8665a7f4cf36",
   "metadata": {},
   "outputs": [],
   "source": []
  }
 ],
 "metadata": {
  "kernelspec": {
   "display_name": "dota2pyenv",
   "language": "python",
   "name": "dota2pyenv"
  },
  "language_info": {
   "codemirror_mode": {
    "name": "ipython",
    "version": 3
   },
   "file_extension": ".py",
   "mimetype": "text/x-python",
   "name": "python",
   "nbconvert_exporter": "python",
   "pygments_lexer": "ipython3",
   "version": "3.10.9"
  }
 },
 "nbformat": 4,
 "nbformat_minor": 5
}
