{
 "cells": [
  {
   "cell_type": "code",
   "execution_count": null,
   "id": "709e33fa-5bab-4845-9f2d-a17e329b64ae",
   "metadata": {},
   "outputs": [],
   "source": [
    "import pickle\n",
    "# CONSTANTS\n",
    "DBUFF_HERO_URL = \"https://www.dotabuff.com/heroes\"\n",
    "\n",
    "# assets/data path\n",
    "DATA_PATH = '../assets/data'\n"
   ]
  },
  {
   "cell_type": "code",
   "execution_count": null,
   "id": "ad45a2c9-80aa-4339-be1d-dd7d9f9cb412",
   "metadata": {},
   "outputs": [],
   "source": [
    "with open(f'{DATA_PATH}/dbuff_adv_data.pkl', 'rb') as file_load:\n",
    "    dbuff_adv_data = pickle.load(file_load)\n",
    "with open(f'{DATA_PATH}/dbuff_wr_data.pkl', 'rb') as file_load:\n",
    "    dbuff_wr_data = pickle.load(file_load)"
   ]
  },
  {
   "cell_type": "code",
   "execution_count": null,
   "id": "667a49a1-eac5-41e8-b225-4e3966dac6e4",
   "metadata": {},
   "outputs": [],
   "source": [
    "dbuff_wr_data"
   ]
  },
  {
   "cell_type": "code",
   "execution_count": null,
   "id": "2f6f6273-49d2-4951-b868-52c088c383e5",
   "metadata": {},
   "outputs": [],
   "source": [
    "dbuff_adv_data"
   ]
  },
  {
   "cell_type": "code",
   "execution_count": null,
   "id": "fc36b9ff-1278-4d97-bfa3-8e71738fdd24",
   "metadata": {},
   "outputs": [],
   "source": []
  },
  {
   "cell_type": "code",
   "execution_count": null,
   "id": "5de067b2-f1a0-4183-9d5f-9231e4785f56",
   "metadata": {},
   "outputs": [],
   "source": []
  }
 ],
 "metadata": {
  "kernelspec": {
   "display_name": "dota2pyenv",
   "language": "python",
   "name": "dota2pyenv"
  },
  "language_info": {
   "codemirror_mode": {
    "name": "ipython",
    "version": 3
   },
   "file_extension": ".py",
   "mimetype": "text/x-python",
   "name": "python",
   "nbconvert_exporter": "python",
   "pygments_lexer": "ipython3",
   "version": "3.10.9"
  }
 },
 "nbformat": 4,
 "nbformat_minor": 5
}
