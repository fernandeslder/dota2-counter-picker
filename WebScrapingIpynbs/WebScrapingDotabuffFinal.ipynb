{
 "cells": [
  {
   "cell_type": "code",
   "execution_count": null,
   "id": "1ef61a22-82aa-446d-affb-b87511073d22",
   "metadata": {},
   "outputs": [],
   "source": [
    "import requests\n",
    "from bs4 import BeautifulSoup\n",
    "import re\n",
    "from jproperties import Properties\n",
    "import json\n",
    "import pandas as pd"
   ]
  },
  {
   "cell_type": "code",
   "execution_count": null,
   "id": "77f8a228-3215-4abe-a4bd-5691e5b35de0",
   "metadata": {},
   "outputs": [],
   "source": [
    "configs = Properties()\n",
    "with open('application.properties', 'rb') as config_file:\n",
    "    configs.load(config_file)"
   ]
  },
  {
   "cell_type": "code",
   "execution_count": null,
   "id": "52d68925-1d57-487a-a351-17922d15087b",
   "metadata": {},
   "outputs": [],
   "source": [
    "dotabuff_filters = configs.get(\"dotabuff_filters\").data\n",
    "dis_pkl_file_path = configs.get(\"json_file_path\").data\n",
    "wr_pkl_file_path = configs.get(\"json_file_path\").data"
   ]
  },
  {
   "cell_type": "code",
   "execution_count": null,
   "id": "b734dd43-384b-4600-99dd-923cf29e01ea",
   "metadata": {
    "tags": []
   },
   "outputs": [],
   "source": [
    "url1 = \"https://www.dotabuff.com/heroes\"\n",
    "headers = {\n",
    "    \"User-Agent\": \"Mozilla/5.0 (Windows NT 10.0; Win64; x64) AppleWebKit/537.36 (KHTML, like Gecko) Chrome/58.0.3029.110 Safari/537.3\"}\n",
    "\n",
    "req = requests.get(url1, headers=headers)\n",
    "soup = BeautifulSoup(req.content, \"html.parser\")\n",
    "hero_links = soup.find_all(\"a\", href=re.compile(r\"/heroes/.*\"))\n",
    "heroes=[]\n",
    "for link in hero_links:\n",
    "    if link.find(\"div\", class_=\"hero\"):\n",
    "        heroes.append({\"hero_name\": link.text.strip(), \"link_name\": link['href'][8:]})"
   ]
  },
  {
   "cell_type": "code",
   "execution_count": null,
   "id": "8b494ad6-d161-40b8-833d-9f7b96ef8898",
   "metadata": {},
   "outputs": [],
   "source": [
    "all_hero_names_list = [hero_dict['hero_name'] for hero_dict in heroes]\n",
    "\n",
    "print(json.dumps(all_hero_names_list))\n",
    "with open(\"all_hero_names_list.json\", \"w\") as outfile:\n",
    "    outfile.write(json.dumps(all_hero_names_list))"
   ]
  },
  {
   "cell_type": "code",
   "execution_count": null,
   "id": "fb889f27-f886-4f35-a7b7-de4bd134d8ad",
   "metadata": {
    "tags": []
   },
   "outputs": [],
   "source": [
    "data_dict_dis={}\n",
    "data_dict_wr={}\n",
    "for hero in heroes:\n",
    "    single_hero_counter_data=[]\n",
    "    url2 = f\"https://www.dotabuff.com/heroes/{hero['link_name']}/counters{dotabuff_filters}\"\n",
    "    req = requests.get(url2, headers=headers)\n",
    "    soup = BeautifulSoup(req.content, \"html.parser\")\n",
    "    header = soup.find(\"header\", string=\"Matchups\")\n",
    "    table = header.find_next_sibling(\"article\").find(\"table\")\n",
    "    for row in table.find_all(\"tr\"):\n",
    "        counter_name_tag = row.find(\"a\", class_=\"link-type-hero\")\n",
    "        if row.find(\"td\") and counter_name_tag:\n",
    "            disadvantage = row.find_all(\"td\")[2]['data-value']\n",
    "            wr = row.find_all(\"td\")[3]['data-value']\n",
    "            data_dict_dis.setdefault(counter_name_tag.text.strip(), {})[hero['hero_name']] = float(disadvantage)\n",
    "            data_dict_wr.setdefault(counter_name_tag.text.strip(), {})[hero['hero_name']] = float(wr)\n",
    "    print(hero['hero_name'])"
   ]
  },
  {
   "cell_type": "code",
   "execution_count": null,
   "id": "c12cd131-08d8-46cf-b85c-8218675415c5",
   "metadata": {
    "scrolled": true,
    "tags": []
   },
   "outputs": [],
   "source": [
    "df_dis = pd.DataFrame.from_dict(data_dict_dis, orient='index')\n",
    "df_wr = pd.DataFrame.from_dict(data_dict_wr, orient='index')\n",
    "df_dis = df_dis.fillna(0)\n",
    "df_wr = df_wr.fillna(50)"
   ]
  },
  {
   "cell_type": "code",
   "execution_count": null,
   "id": "0bf8830b-b51a-401d-8bcf-87bb58f15477",
   "metadata": {},
   "outputs": [],
   "source": [
    "df_dis"
   ]
  },
  {
   "cell_type": "code",
   "execution_count": null,
   "id": "dda80888-3a8d-4946-9b22-85c7590d3296",
   "metadata": {},
   "outputs": [],
   "source": [
    "df_wr"
   ]
  },
  {
   "cell_type": "code",
   "execution_count": null,
   "id": "9c245807-59b6-4847-846e-662531a86960",
   "metadata": {},
   "outputs": [],
   "source": [
    "import pickle\n",
    "with open('dbuff_dis_data.pkl', 'wb') as f:\n",
    "    pickle.dump(df_dis, f)\n",
    "with open('dbuff_wr_data.pkl', 'wb') as f:\n",
    "    pickle.dump(df_wr, f)"
   ]
  },
  {
   "cell_type": "code",
   "execution_count": null,
   "id": "26128957-5200-412b-99ed-799d5a39b370",
   "metadata": {},
   "outputs": [],
   "source": [
    "def sync_hero_names():\n",
    "    url1 = \"https://www.dotabuff.com/heroes\"\n",
    "    headers = {\n",
    "    \"User-Agent\": \"Mozilla/5.0 (Windows NT 10.0; Win64; x64) AppleWebKit/537.36 (KHTML, like Gecko) Chrome/58.0.3029.110 Safari/537.3\"}\n",
    "\n",
    "    req = requests.get(url1, headers=headers)\n",
    "    soup = BeautifulSoup(req.content, \"html.parser\")\n",
    "    hero_links = soup.find_all(\"a\", href=re.compile(r\"/heroes/.*\"))\n",
    "    heroes = []\n",
    "    for link in hero_links:\n",
    "        if link.find(\"div\", class_=\"hero\"):\n",
    "            heroes.append({\"hero_name\": link.text.strip(), \"link_name\": link['href'][8:]})\n",
    "\n",
    "    all_hero_names_list = [hero_dict['hero_name'] for hero_dict in heroes]\n",
    "    with open('../assets/data/all_hero_names_list.json', 'w') as hero_names_out:\n",
    "        hero_names_out.write(json.dumps(all_hero_names_list))\n",
    "    return heroes"
   ]
  },
  {
   "cell_type": "code",
   "execution_count": null,
   "id": "8fa8e12c-237b-49f3-85b5-479fd3a20e5f",
   "metadata": {},
   "outputs": [],
   "source": [
    "heroes = sync_hero_names()"
   ]
  },
  {
   "cell_type": "code",
   "execution_count": null,
   "id": "a1a081b9-7bb5-41c4-a18b-d2113bc33427",
   "metadata": {},
   "outputs": [],
   "source": [
    "heroes"
   ]
  },
  {
   "cell_type": "code",
   "execution_count": null,
   "id": "36535b19-557e-4fcf-97c9-a350190420d0",
   "metadata": {},
   "outputs": [],
   "source": []
  }
 ],
 "metadata": {
  "kernelspec": {
   "display_name": "dota2pyenv",
   "language": "python",
   "name": "dota2pyenv"
  },
  "language_info": {
   "codemirror_mode": {
    "name": "ipython",
    "version": 3
   },
   "file_extension": ".py",
   "mimetype": "text/x-python",
   "name": "python",
   "nbconvert_exporter": "python",
   "pygments_lexer": "ipython3",
   "version": "3.10.9"
  }
 },
 "nbformat": 4,
 "nbformat_minor": 5
}
