{
 "cells": [
  {
   "cell_type": "code",
   "execution_count": 20,
   "id": "1ef61a22-82aa-446d-affb-b87511073d22",
   "metadata": {},
   "outputs": [],
   "source": [
    "import requests\n",
    "from bs4 import BeautifulSoup\n",
    "import re\n",
    "from jproperties import Properties\n",
    "import json\n",
    "import pandas as pd"
   ]
  },
  {
   "cell_type": "code",
   "execution_count": 2,
   "id": "77f8a228-3215-4abe-a4bd-5691e5b35de0",
   "metadata": {},
   "outputs": [],
   "source": [
    "configs = Properties()\n",
    "with open('application.properties', 'rb') as config_file:\n",
    "    configs.load(config_file)"
   ]
  },
  {
   "cell_type": "code",
   "execution_count": 3,
   "id": "52d68925-1d57-487a-a351-17922d15087b",
   "metadata": {},
   "outputs": [],
   "source": [
    "dotabuff_filters = configs.get(\"dotabuff_filters\").data\n",
    "json_file_path = configs.get(\"json_file_path\").data"
   ]
  },
  {
   "cell_type": "code",
   "execution_count": 4,
   "id": "b734dd43-384b-4600-99dd-923cf29e01ea",
   "metadata": {
    "tags": []
   },
   "outputs": [],
   "source": [
    "url1 = \"https://www.dotabuff.com/heroes\"\n",
    "headers = {\n",
    "    \"User-Agent\": \"Mozilla/5.0 (Windows NT 10.0; Win64; x64) AppleWebKit/537.36 (KHTML, like Gecko) Chrome/58.0.3029.110 Safari/537.3\"}\n",
    "\n",
    "req = requests.get(url1, headers=headers)\n",
    "soup = BeautifulSoup(req.content, \"html.parser\")\n",
    "hero_links = soup.find_all(\"a\", href=re.compile(r\"/heroes/.*\"))\n",
    "heroes=[]\n",
    "for link in hero_links:\n",
    "    if link.find(\"div\", class_=\"hero\"):\n",
    "        heroes.append({\"hero_name\": link.text.strip(), \"link_name\": link['href'][8:]})"
   ]
  },
  {
   "cell_type": "code",
   "execution_count": 5,
   "id": "8b494ad6-d161-40b8-833d-9f7b96ef8898",
   "metadata": {},
   "outputs": [
    {
     "data": {
      "text/plain": [
       "{'hero_name': 'Alchemist', 'link_name': 'alchemist'}"
      ]
     },
     "execution_count": 5,
     "metadata": {},
     "output_type": "execute_result"
    }
   ],
   "source": [
    "heroes[1]"
   ]
  },
  {
   "cell_type": "code",
   "execution_count": 13,
   "id": "097de5fa-ebe4-4b9f-b35e-a1ef6f759460",
   "metadata": {},
   "outputs": [],
   "source": [
    "jsonstr = json.dumps(heroes_counter_data)"
   ]
  },
  {
   "cell_type": "code",
   "execution_count": 14,
   "id": "d5d68743-2df9-4f26-9638-4902d0beb9a2",
   "metadata": {},
   "outputs": [],
   "source": [
    "with open(json_file_path, \"w\") as f:\n",
    "    f.write(jsonstr)"
   ]
  },
  {
   "cell_type": "code",
   "execution_count": 88,
   "id": "fb889f27-f886-4f35-a7b7-de4bd134d8ad",
   "metadata": {},
   "outputs": [
    {
     "name": "stdout",
     "output_type": "stream",
     "text": [
      "Abaddon\n",
      "Alchemist\n"
     ]
    }
   ],
   "source": [
    "data_dict_dis={}\n",
    "data_dict_wr={}\n",
    "for hero in heroes[0:2]:\n",
    "    single_hero_counter_data=[]\n",
    "    url2 = f\"https://www.dotabuff.com/heroes/{hero['link_name']}/counters{dotabuff_filters}\"\n",
    "    req = requests.get(url2, headers=headers)\n",
    "    soup = BeautifulSoup(req.content, \"html.parser\")\n",
    "    header = soup.find(\"header\", string=\"Matchups\")\n",
    "    table = header.find_next_sibling(\"article\").find(\"table\")\n",
    "    for row in table.find_all(\"tr\"):\n",
    "        counter_name_tag = row.find(\"a\", class_=\"link-type-hero\")\n",
    "        if row.find(\"td\") and hero_name_tag:\n",
    "            disadvantage = row.find_all(\"td\")[2]['data-value']\n",
    "            wr = row.find_all(\"td\")[3]['data-value']\n",
    "            data_dict_dis.setdefault(counter_name_tag.text.strip(), {})[hero['hero_name']] = float(disadvantage)\n",
    "            data_dict_wr.setdefault(counter_name_tag.text.strip(), {})[hero['hero_name']] = float(wr)\n",
    "    print(hero['hero_name'])"
   ]
  },
  {
   "cell_type": "code",
   "execution_count": 93,
   "id": "c12cd131-08d8-46cf-b85c-8218675415c5",
   "metadata": {
    "scrolled": true,
    "tags": []
   },
   "outputs": [
    {
     "data": {
      "text/html": [
       "<div>\n",
       "<style scoped>\n",
       "    .dataframe tbody tr th:only-of-type {\n",
       "        vertical-align: middle;\n",
       "    }\n",
       "\n",
       "    .dataframe tbody tr th {\n",
       "        vertical-align: top;\n",
       "    }\n",
       "\n",
       "    .dataframe thead th {\n",
       "        text-align: right;\n",
       "    }\n",
       "</style>\n",
       "<table border=\"1\" class=\"dataframe\">\n",
       "  <thead>\n",
       "    <tr style=\"text-align: right;\">\n",
       "      <th></th>\n",
       "      <th>Abaddon</th>\n",
       "      <th>Alchemist</th>\n",
       "    </tr>\n",
       "  </thead>\n",
       "  <tbody>\n",
       "    <tr>\n",
       "      <th>Slark</th>\n",
       "      <td>2.8180</td>\n",
       "      <td>1.7394</td>\n",
       "    </tr>\n",
       "    <tr>\n",
       "      <th>Dark Seer</th>\n",
       "      <td>2.7863</td>\n",
       "      <td>0.2161</td>\n",
       "    </tr>\n",
       "    <tr>\n",
       "      <th>Undying</th>\n",
       "      <td>2.4031</td>\n",
       "      <td>-0.4823</td>\n",
       "    </tr>\n",
       "    <tr>\n",
       "      <th>Anti-Mage</th>\n",
       "      <td>2.3034</td>\n",
       "      <td>0.6232</td>\n",
       "    </tr>\n",
       "    <tr>\n",
       "      <th>Shadow Demon</th>\n",
       "      <td>2.2261</td>\n",
       "      <td>-0.2402</td>\n",
       "    </tr>\n",
       "    <tr>\n",
       "      <th>...</th>\n",
       "      <td>...</td>\n",
       "      <td>...</td>\n",
       "    </tr>\n",
       "    <tr>\n",
       "      <th>Arc Warden</th>\n",
       "      <td>-3.2389</td>\n",
       "      <td>-0.8156</td>\n",
       "    </tr>\n",
       "    <tr>\n",
       "      <th>Batrider</th>\n",
       "      <td>-3.3046</td>\n",
       "      <td>0.5728</td>\n",
       "    </tr>\n",
       "    <tr>\n",
       "      <th>Silencer</th>\n",
       "      <td>-3.4821</td>\n",
       "      <td>-1.1903</td>\n",
       "    </tr>\n",
       "    <tr>\n",
       "      <th>Spectre</th>\n",
       "      <td>-3.8734</td>\n",
       "      <td>-3.1863</td>\n",
       "    </tr>\n",
       "    <tr>\n",
       "      <th>Abaddon</th>\n",
       "      <td>0.0000</td>\n",
       "      <td>-1.4208</td>\n",
       "    </tr>\n",
       "  </tbody>\n",
       "</table>\n",
       "<p>123 rows × 2 columns</p>\n",
       "</div>"
      ],
      "text/plain": [
       "              Abaddon  Alchemist\n",
       "Slark          2.8180     1.7394\n",
       "Dark Seer      2.7863     0.2161\n",
       "Undying        2.4031    -0.4823\n",
       "Anti-Mage      2.3034     0.6232\n",
       "Shadow Demon   2.2261    -0.2402\n",
       "...               ...        ...\n",
       "Arc Warden    -3.2389    -0.8156\n",
       "Batrider      -3.3046     0.5728\n",
       "Silencer      -3.4821    -1.1903\n",
       "Spectre       -3.8734    -3.1863\n",
       "Abaddon        0.0000    -1.4208\n",
       "\n",
       "[123 rows x 2 columns]"
      ]
     },
     "execution_count": 93,
     "metadata": {},
     "output_type": "execute_result"
    }
   ],
   "source": [
    "df = pd.DataFrame.from_dict(data_dict_dis, orient='index')\n",
    "\n",
    "df.fillna(0)"
   ]
  },
  {
   "cell_type": "code",
   "execution_count": 91,
   "id": "0bf8830b-b51a-401d-8bcf-87bb58f15477",
   "metadata": {},
   "outputs": [],
   "source": [
    "df_sum = df['Abaddon'].fillna(0) + df['Alchemist'].fillna(0)"
   ]
  },
  {
   "cell_type": "code",
   "execution_count": 92,
   "id": "dda80888-3a8d-4946-9b22-85c7590d3296",
   "metadata": {},
   "outputs": [
    {
     "data": {
      "text/plain": [
       "Slark           4.5574\n",
       "Dark Seer       3.0024\n",
       "Undying         1.9208\n",
       "Anti-Mage       2.9266\n",
       "Shadow Demon    1.9859\n",
       "                 ...  \n",
       "Arc Warden     -4.0545\n",
       "Batrider       -2.7318\n",
       "Silencer       -4.6724\n",
       "Spectre        -7.0597\n",
       "Abaddon        -1.4208\n",
       "Length: 123, dtype: float64"
      ]
     },
     "execution_count": 92,
     "metadata": {},
     "output_type": "execute_result"
    }
   ],
   "source": [
    "df_sum"
   ]
  },
  {
   "cell_type": "code",
   "execution_count": 83,
   "id": "9c245807-59b6-4847-846e-662531a86960",
   "metadata": {},
   "outputs": [],
   "source": [
    "json_str = df_sum.to_json()"
   ]
  },
  {
   "cell_type": "code",
   "execution_count": 84,
   "id": "ef02c625-e469-4d97-b8eb-4f4771c877c0",
   "metadata": {},
   "outputs": [
    {
     "data": {
      "text/plain": [
       "'{\"Slark\":4.5574,\"Dark Seer\":3.0024,\"Undying\":1.9208,\"Anti-Mage\":2.9266,\"Shadow Demon\":1.9859,\"Elder Titan\":1.0937,\"Outworld Destroyer\":2.8315,\"Monkey King\":2.8784,\"Ancient Apparition\":3.2812,\"Meepo\":-0.0869,\"Shadow Fiend\":2.4945,\"Sniper\":2.9704,\"Terrorblade\":2.4964,\"Necrophos\":2.3798,\"Lina\":1.5258,\"Alchemist\":0.0,\"Earthshaker\":0.3722,\"Marci\":1.3441,\"Pangolier\":1.3049,\"Kunkka\":0.5823,\"Lone Druid\":-0.8487,\"Nature\\'s Prophet\":0.0792,\"Lich\":1.6072,\"Lycan\":-1.8145,\"Io\":-0.7872,\"Phantom Lancer\":-0.9509,\"Weaver\":1.0458,\"Medusa\":-0.5446,\"Grimstroke\":1.4075,\"Bristleback\":1.7422,\"Keeper of the Light\":0.1427,\"Drow Ranger\":1.1541,\"Chen\":-0.951,\"Rubick\":0.5215,\"Sven\":0.8416,\"Viper\":1.0679,\"Troll Warlord\":0.848,\"Enchantress\":1.337,\"Underlord\":-0.344,\"Death Prophet\":0.6792,\"Riki\":-0.5244,\"Tusk\":1.1841,\"Lion\":0.6061,\"Leshrac\":1.7109,\"Dawnbreaker\":0.572,\"Bloodseeker\":1.2805,\"Chaos Knight\":0.6967,\"Lifestealer\":1.8666,\"Huskar\":2.7137,\"Primal Beast\":0.8444,\"Broodmother\":-2.7459,\"Tiny\":-0.862,\"Visage\":-2.3578,\"Techies\":-0.1879,\"Snapfire\":-0.0522,\"Windranger\":0.8328,\"Hoodwink\":0.7593,\"Razor\":0.0352,\"Crystal Maiden\":1.2444,\"Pugna\":-0.1566,\"Magnus\":-0.8381,\"Morphling\":1.1291,\"Phantom Assassin\":1.0153,\"Naga Siren\":-1.2644,\"Vengeful Spirit\":0.1505,\"Invoker\":-0.5987,\"Ursa\":-0.1908,\"Timbersaw\":0.7598,\"Nyx Assassin\":0.7036,\"Treant Protector\":-0.5959,\"Beastmaster\":-1.1486,\"Winter Wyvern\":-0.2626,\"Witch Doctor\":1.0066,\"Omniknight\":-0.721,\"Templar Assassin\":-2.3903,\"Tinker\":-1.313,\"Faceless Void\":-0.7944,\"Centaur Warrunner\":-2.9771,\"Night Stalker\":-0.6604,\"Oracle\":-2.2854,\"Dragon Knight\":-0.5364,\"Doom\":-0.9802,\"Dark Willow\":-0.7775,\"Enigma\":-1.7768,\"Ember Spirit\":-1.0404,\"Sand King\":-1.6315,\"Disruptor\":-0.8676,\"Luna\":0.1583,\"Legion Commander\":-0.5101,\"Warlock\":-1.3526,\"Shadow Shaman\":-0.5416,\"Pudge\":0.1947,\"Spirit Breaker\":-0.1549,\"Gyrocopter\":-0.1931,\"Ogre Magi\":-0.4935,\"Dazzle\":-0.8955,\"Slardar\":0.1392,\"Brewmaster\":-1.8688,\"Wraith King\":-3.4599,\"Clockwerk\":-1.0873,\"Juggernaut\":0.4484,\"Bane\":0.0704,\"Zeus\":-1.9433,\"Mars\":-2.3267,\"Tidehunter\":-5.8043,\"Jakiro\":-1.4909,\"Mirana\":-1.156,\"Storm Spirit\":-1.7437,\"Skywrath Mage\":-0.5948,\"Void Spirit\":-2.56,\"Venomancer\":-1.3444,\"Phoenix\":-2.9898,\"Puck\":-4.5599,\"Earth Spirit\":-2.8482,\"Clinkz\":-1.1803,\"Queen of Pain\":-1.4137,\"Axe\":-1.6417,\"Bounty Hunter\":-1.0989,\"Arc Warden\":-4.0545,\"Batrider\":-2.7318,\"Silencer\":-4.6724,\"Spectre\":-7.0597,\"Abaddon\":-1.4208}'"
      ]
     },
     "execution_count": 84,
     "metadata": {},
     "output_type": "execute_result"
    }
   ],
   "source": [
    "json_str"
   ]
  },
  {
   "cell_type": "code",
   "execution_count": null,
   "id": "26128957-5200-412b-99ed-799d5a39b370",
   "metadata": {},
   "outputs": [],
   "source": []
  }
 ],
 "metadata": {
  "kernelspec": {
   "display_name": "dota2pyenv",
   "language": "python",
   "name": "dota2pyenv"
  },
  "language_info": {
   "codemirror_mode": {
    "name": "ipython",
    "version": 3
   },
   "file_extension": ".py",
   "mimetype": "text/x-python",
   "name": "python",
   "nbconvert_exporter": "python",
   "pygments_lexer": "ipython3",
   "version": "3.10.9"
  }
 },
 "nbformat": 4,
 "nbformat_minor": 5
}
